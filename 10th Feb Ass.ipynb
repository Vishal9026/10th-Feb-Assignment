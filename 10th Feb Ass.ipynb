{
 "cells": [
  {
   "cell_type": "code",
   "execution_count": 1,
   "id": "43aae1fe-4745-40dc-9a12-f1b85887f426",
   "metadata": {},
   "outputs": [
    {
     "data": {
      "text/plain": [
       "'In Python, we use the open() method to open files.\\nThere are many modes for opening a file:\\nr - open a file in read mode.\\nw - opens or create a text file in write mode.\\na - opens a file in append mode.\\nr+ - opens a file in both read and write mode.\\na+ - opens a file in both read and write mode.\\nw+ - opens a file in both read and write mode.'"
      ]
     },
     "execution_count": 1,
     "metadata": {},
     "output_type": "execute_result"
    }
   ],
   "source": [
    "# ANSWER-1)\n",
    "'''In Python, we use the open() method to open files.\n",
    "There are many modes for opening a file:\n",
    "r - open a file in read mode.\n",
    "w - opens or create a text file in write mode.\n",
    "a - opens a file in append mode.\n",
    "r+ - opens a file in both read and write mode.\n",
    "a+ - opens a file in both read and write mode.\n",
    "w+ - opens a file in both read and write mode.'''\n",
    "\n"
   ]
  },
  {
   "cell_type": "code",
   "execution_count": 2,
   "id": "8436505b-ee59-4b6c-baa8-1b3bd79a198a",
   "metadata": {},
   "outputs": [
    {
     "data": {
      "text/plain": [
       "'Because files are limited resources managed by the operating system, making sure files are closed after use will protect against hard-to-debug issues like running out of file handles or experiencing corrupted data. The best defense is always to open files with a context manager.'"
      ]
     },
     "execution_count": 2,
     "metadata": {},
     "output_type": "execute_result"
    }
   ],
   "source": [
    "# ANSWER-2)The close() method closes an open file. You should always close your files, in some cases, due to buffering, changes made to a file may not show until you close the file.\n",
    "'''Because files are limited resources managed by the operating system, making sure files are closed after use will protect against hard-to-debug issues like running out of file handles or experiencing corrupted data. The best defense is always to open files with a context manager.'''"
   ]
  },
  {
   "cell_type": "code",
   "execution_count": 3,
   "id": "7a58b06c-86c3-4ff8-82f3-b6e616425a45",
   "metadata": {},
   "outputs": [],
   "source": [
    "# ANSWER-3)\n",
    "f = open('text file','w')\n",
    "f.write('i want to become a Data Scientist')\n",
    "f.close()"
   ]
  },
  {
   "cell_type": "code",
   "execution_count": 4,
   "id": "f0d2b72e-c42a-4986-ab03-73468604874d",
   "metadata": {},
   "outputs": [
    {
     "data": {
      "text/plain": [
       "'i want to become a Data Scientist'"
      ]
     },
     "execution_count": 4,
     "metadata": {},
     "output_type": "execute_result"
    }
   ],
   "source": [
    "f = open('text file', 'r')\n",
    "f.read()"
   ]
  },
  {
   "cell_type": "code",
   "execution_count": 5,
   "id": "6ec6936f-100c-4bdd-aa83-5b7d713dd8b3",
   "metadata": {},
   "outputs": [],
   "source": [
    "# ANSWER-4)The read() method returns the specified number of bytes from the file.\n",
    "# Python readline() method will return a line from the file when called. readlines() method will return all the lines in a file in the format of a list where each element is a line in the file."
   ]
  },
  {
   "cell_type": "code",
   "execution_count": 6,
   "id": "9255e34e-abbe-4637-aabe-bc8feb3d6932",
   "metadata": {},
   "outputs": [],
   "source": [
    "# ANSWER-5)When you call the open() function using the with statement, the file closes automatically after you've processed the file. The with statement is a replacement for commonly used try/finally error-handling statements. A common example of using the with statement is opening a file."
   ]
  },
  {
   "cell_type": "code",
   "execution_count": 9,
   "id": "ec3d9847-94f4-4966-bc18-491628e0abbe",
   "metadata": {},
   "outputs": [],
   "source": [
    "# ANSWER-6)\n",
    "# Write() method displays the output but do not provide a new line character. WriteLine() method displays the output and also provides a new line character it the end of the string, This would set a new line for the next output.\n",
    "# The only difference between the write() and writelines() is that write() is used to write a string to an already opened file while writelines() method is used to write a list of strings in an opened file.\n",
    "# write() method is used to write a string or a paragraph into a file, and writelines() method is used to write a LIST of a string into a file\n"
   ]
  },
  {
   "cell_type": "code",
   "execution_count": 10,
   "id": "759c1553-b41a-4ce0-8a28-0de6dac48b4f",
   "metadata": {},
   "outputs": [
    {
     "name": "stdin",
     "output_type": "stream",
     "text": [
      "Enter the name of the employee:  aditya\n",
      "Enter the name of the employee:  ram\n",
      "Enter the name of the employee:  vishal\n"
     ]
    },
    {
     "name": "stdout",
     "output_type": "stream",
     "text": [
      "Data is written into the file.\n"
     ]
    }
   ],
   "source": [
    "file = open(\"Employees.txt\", \"w\")\n",
    "  \n",
    "for i in range(3):\n",
    "    name = input(\"Enter the name of the employee: \")\n",
    "    file.write(name)\n",
    "    file.write(\"\\n\")\n",
    "     \n",
    "file.close()\n",
    "  \n",
    "print(\"Data is written into the file.\")"
   ]
  },
  {
   "cell_type": "code",
   "execution_count": 11,
   "id": "9a57875d-cc9a-40ab-80dd-b0a1c9ccb1fe",
   "metadata": {},
   "outputs": [
    {
     "name": "stdin",
     "output_type": "stream",
     "text": [
      "Enter the name of the employee:  vishal \n",
      "Enter the name of the employee:  ram\n",
      "Enter the name of the employee:  rohan\n"
     ]
    },
    {
     "name": "stdout",
     "output_type": "stream",
     "text": [
      "Data is written into the file.\n"
     ]
    }
   ],
   "source": [
    "file1 = open(\"Employees.txt\", \"w\")\n",
    "lst = []\n",
    "for i in range(3):\n",
    "    name = input(\"Enter the name of the employee: \")\n",
    "    lst.append(name + '\\n')\n",
    "      \n",
    "file1.writelines(lst)\n",
    "file1.close()\n",
    "print(\"Data is written into the file.\")"
   ]
  },
  {
   "cell_type": "code",
   "execution_count": null,
   "id": "7369b6ab-4992-4f8e-a814-53846917234c",
   "metadata": {},
   "outputs": [],
   "source": []
  }
 ],
 "metadata": {
  "kernelspec": {
   "display_name": "Python 3 (ipykernel)",
   "language": "python",
   "name": "python3"
  },
  "language_info": {
   "codemirror_mode": {
    "name": "ipython",
    "version": 3
   },
   "file_extension": ".py",
   "mimetype": "text/x-python",
   "name": "python",
   "nbconvert_exporter": "python",
   "pygments_lexer": "ipython3",
   "version": "3.10.8"
  }
 },
 "nbformat": 4,
 "nbformat_minor": 5
}
